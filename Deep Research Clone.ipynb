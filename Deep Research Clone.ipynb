{
 "cells": [
  {
   "cell_type": "markdown",
   "metadata": {
    "id": "vsELWsDGOON-"
   },
   "source": [
    "# Setup"
   ]
  },
  {
   "cell_type": "code",
   "execution_count": 23,
   "metadata": {
    "ExecuteTime": {
     "end_time": "2025-07-21T00:59:35.722672Z",
     "start_time": "2025-07-21T00:59:35.720482Z"
    },
    "executionInfo": {
     "elapsed": 4064,
     "status": "ok",
     "timestamp": 1747653192873,
     "user": {
      "displayName": "Diogo Resende",
      "userId": "05706604408624562002"
     },
     "user_tz": -120
    },
    "id": "fke5Y-bwNJ9_"
   },
   "outputs": [],
   "source": [
    "from openai import OpenAI\n",
    "import os, json, itertools\n",
    "from IPython.display import display, Markdown\n"
   ]
  },
  {
   "cell_type": "code",
   "execution_count": 24,
   "metadata": {
    "ExecuteTime": {
     "end_time": "2025-07-21T00:59:37.345429Z",
     "start_time": "2025-07-21T00:59:37.340297Z"
    },
    "executionInfo": {
     "elapsed": 2901,
     "status": "ok",
     "timestamp": 1747653230318,
     "user": {
      "displayName": "Diogo Resende",
      "userId": "05706604408624562002"
     },
     "user_tz": -120
    },
    "id": "hqeSZXIaP4ph"
   },
   "outputs": [
    {
     "data": {
      "text/plain": [
       "True"
      ]
     },
     "execution_count": 24,
     "metadata": {},
     "output_type": "execute_result"
    }
   ],
   "source": [
    "from dotenv import load_dotenv\n",
    "load_dotenv()"
   ]
  },
  {
   "cell_type": "code",
   "execution_count": 25,
   "metadata": {
    "ExecuteTime": {
     "end_time": "2025-07-21T00:59:38.480879Z",
     "start_time": "2025-07-21T00:59:38.478993Z"
    },
    "executionInfo": {
     "elapsed": 2,
     "status": "ok",
     "timestamp": 1747653245208,
     "user": {
      "displayName": "Diogo Resende",
      "userId": "05706604408624562002"
     },
     "user_tz": -120
    },
    "id": "mjOIGSQfPzm-"
   },
   "outputs": [],
   "source": [
    "import os\n",
    "openai_api_key = os.getenv('OPENAI_API_KEY')"
   ]
  },
  {
   "cell_type": "code",
   "execution_count": 26,
   "metadata": {
    "ExecuteTime": {
     "end_time": "2025-07-21T00:59:40.454714Z",
     "start_time": "2025-07-21T00:59:40.430348Z"
    },
    "executionInfo": {
     "elapsed": 311,
     "status": "ok",
     "timestamp": 1747653264694,
     "user": {
      "displayName": "Diogo Resende",
      "userId": "05706604408624562002"
     },
     "user_tz": -120
    },
    "id": "Fm6Zvbs5QDhy"
   },
   "outputs": [],
   "source": [
    "# Connect to the OpenAI api\n",
    "client = OpenAI()"
   ]
  },
  {
   "cell_type": "markdown",
   "metadata": {
    "id": "8DPeUOJ9QWMo"
   },
   "source": [
    "# Define the inputs"
   ]
  },
  {
   "cell_type": "code",
   "execution_count": 27,
   "metadata": {
    "ExecuteTime": {
     "end_time": "2025-07-21T00:59:41.612499Z",
     "start_time": "2025-07-21T00:59:41.609960Z"
    },
    "executionInfo": {
     "elapsed": 5,
     "status": "ok",
     "timestamp": 1747656671365,
     "user": {
      "displayName": "Diogo Resende",
      "userId": "05706604408624562002"
     },
     "user_tz": -120
    },
    "id": "JJQXJtqJQXUd"
   },
   "outputs": [],
   "source": [
    "# Define the model inputs\n",
    "MODEL = \"gpt-4.1\"\n",
    "MODEL_MINI = \"gpt-4.1-mini\"\n",
    "TOOLS = [{ \"type\": \"web_search\" }]"
   ]
  },
  {
   "cell_type": "code",
   "execution_count": 28,
   "metadata": {
    "ExecuteTime": {
     "end_time": "2025-07-21T00:59:42.711192Z",
     "start_time": "2025-07-21T00:59:42.708820Z"
    },
    "executionInfo": {
     "elapsed": 9,
     "status": "ok",
     "timestamp": 1747654039317,
     "user": {
      "displayName": "Diogo Resende",
      "userId": "05706604408624562002"
     },
     "user_tz": -120
    },
    "id": "gmQgwWOTS3bR"
   },
   "outputs": [],
   "source": [
    "# Developer message definition\n",
    "developer_message = \"\"\"\n",
    "You are an expert Deep Researcher.\n",
    "You provide complete and in depth research to the user.\n",
    "\"\"\"\n"
   ]
  },
  {
   "cell_type": "code",
   "execution_count": 29,
   "metadata": {
    "ExecuteTime": {
     "end_time": "2025-07-21T00:59:50.387767Z",
     "start_time": "2025-07-21T00:59:43.961085Z"
    },
    "colab": {
     "base_uri": "https://localhost:8080/",
     "height": 53
    },
    "executionInfo": {
     "elapsed": 3741,
     "status": "ok",
     "timestamp": 1747653547385,
     "user": {
      "displayName": "Diogo Resende",
      "userId": "05706604408624562002"
     },
     "user_tz": -120
    },
    "id": "E_oX4UZZQ8mi",
    "outputId": "f6d591f1-4efd-4495-b8df-0e43e7f35dd9"
   },
   "outputs": [
    {
     "data": {
      "text/plain": [
       "'Shiba Inu'"
      ]
     },
     "execution_count": 29,
     "metadata": {},
     "output_type": "execute_result"
    }
   ],
   "source": [
    "# Request the topic of research\n",
    "topic = input(\"Please enter the research topic: \")\n",
    "topic"
   ]
  },
  {
   "cell_type": "markdown",
   "metadata": {
    "id": "qAlkNxBPSPeH"
   },
   "source": [
    "# LLM asks questions"
   ]
  },
  {
   "cell_type": "code",
   "execution_count": 32,
   "metadata": {
    "ExecuteTime": {
     "end_time": "2025-07-21T00:59:56.449354Z",
     "start_time": "2025-07-21T00:59:56.445906Z"
    },
    "executionInfo": {
     "elapsed": 3,
     "status": "ok",
     "timestamp": 1747654112028,
     "user": {
      "displayName": "Diogo Resende",
      "userId": "05706604408624562002"
     },
     "user_tz": -120
    },
    "id": "UZ3fZXEvTGRP"
   },
   "outputs": [],
   "source": [
    "# Define here the prompt to clarify\n",
    "prompt_to_clarify = f\"\"\"\n",
    "Ask 5 numbered clarifying question to the user about the topic: {topic}.\n",
    "The goal of the questions is to understand the intended purpose of the research and help the user to understand it.\n",
    "Reply only with the questions\n",
    "\"\"\""
   ]
  },
  {
   "cell_type": "code",
   "execution_count": 33,
   "metadata": {
    "ExecuteTime": {
     "end_time": "2025-07-21T00:59:59.953180Z",
     "start_time": "2025-07-21T00:59:57.922625Z"
    },
    "executionInfo": {
     "elapsed": 3381,
     "status": "ok",
     "timestamp": 1747654121284,
     "user": {
      "displayName": "Diogo Resende",
      "userId": "05706604408624562002"
     },
     "user_tz": -120
    },
    "id": "5yy1LDr7SSdc"
   },
   "outputs": [],
   "source": [
    "# Get the OpenAI API to ask 5 clarifying questions\n",
    "clarify = client.responses.create(\n",
    "    model = MODEL_MINI,\n",
    "    input = prompt_to_clarify,\n",
    "    instructions = developer_message\n",
    ")"
   ]
  },
  {
   "cell_type": "code",
   "execution_count": 34,
   "metadata": {
    "ExecuteTime": {
     "end_time": "2025-07-21T01:00:01.685271Z",
     "start_time": "2025-07-21T01:00:01.682079Z"
    },
    "colab": {
     "base_uri": "https://localhost:8080/"
    },
    "executionInfo": {
     "elapsed": 4,
     "status": "ok",
     "timestamp": 1747654559659,
     "user": {
      "displayName": "Diogo Resende",
      "userId": "05706604408624562002"
     },
     "user_tz": -120
    },
    "id": "NNS5vLzbUjKr",
    "outputId": "5ff11a8b-9205-48dd-a305-ecc292ab1290"
   },
   "outputs": [
    {
     "data": {
      "text/plain": [
       "['1. Are you interested in researching the Shiba Inu dog breed, the cryptocurrency Shiba Inu (SHIB), or both?  ',\n",
       " '2. What specific aspects of Shiba Inu are you looking to explore (e.g., history, behavior, training for the dog breed; market performance, technology, investment strategies for the cryptocurrency)?  ',\n",
       " '3. What is the intended purpose of your research—academic study, investment decision, pet ownership preparation, or something else?  ',\n",
       " '4. Do you require detailed technical information, or would a general overview suffice?  ',\n",
       " '5. Are you looking for recent developments and trends, or a comprehensive historical background?']"
      ]
     },
     "execution_count": 34,
     "metadata": {},
     "output_type": "execute_result"
    }
   ],
   "source": [
    "# Get the questions\n",
    "questions = clarify.output[0].content[0].text.split( \"\\n\")\n",
    "questions"
   ]
  },
  {
   "cell_type": "code",
   "execution_count": 37,
   "metadata": {
    "ExecuteTime": {
     "end_time": "2025-07-21T01:01:43.556128Z",
     "start_time": "2025-07-21T01:01:10.847731Z"
    },
    "colab": {
     "base_uri": "https://localhost:8080/"
    },
    "executionInfo": {
     "elapsed": 110181,
     "status": "ok",
     "timestamp": 1747654705106,
     "user": {
      "displayName": "Diogo Resende",
      "userId": "05706604408624562002"
     },
     "user_tz": -120
    },
    "id": "YU4DuTwRVE-K",
    "outputId": "f71d075c-98de-40a1-e702-ed1e2df662a4"
   },
   "outputs": [],
   "source": [
    "# Ask each question to the user\n",
    "answers = []\n",
    "for question in questions:\n",
    "  answer = input(question)\n",
    "  answers.append(answer)"
   ]
  },
  {
   "cell_type": "markdown",
   "metadata": {
    "id": "jr2uK0R2Vq1x"
   },
   "source": [
    "# Web searches"
   ]
  },
  {
   "cell_type": "markdown",
   "metadata": {
    "id": "NwreMNAkX8ae"
   },
   "source": [
    "## Goal and Queries"
   ]
  },
  {
   "cell_type": "code",
   "execution_count": 38,
   "metadata": {
    "ExecuteTime": {
     "end_time": "2025-07-21T01:01:45.522456Z",
     "start_time": "2025-07-21T01:01:45.520169Z"
    },
    "executionInfo": {
     "elapsed": 2,
     "status": "ok",
     "timestamp": 1747655689634,
     "user": {
      "displayName": "Diogo Resende",
      "userId": "05706604408624562002"
     },
     "user_tz": -120
    },
    "id": "aLWfdsa_YU4R"
   },
   "outputs": [],
   "source": [
    "# Write the prompt_goals prompt\n",
    "prompt_goals = f\"\"\"\n",
    "Using the user answers {answers} to the questions {questions}, write a goal sentence and 5 web search queries for the research about {topic}\n",
    "Output: A json list of the goal and the 5 web search queries that will reach it.\n",
    "Format: {{\\\"goal\\\": \\\"...\\\", \\\"queries\\\": [\\\"q1\\\", ....]}}\n",
    "\"\"\""
   ]
  },
  {
   "cell_type": "code",
   "execution_count": 39,
   "metadata": {
    "ExecuteTime": {
     "end_time": "2025-07-21T01:01:50.340788Z",
     "start_time": "2025-07-21T01:01:46.943266Z"
    },
    "colab": {
     "base_uri": "https://localhost:8080/",
     "height": 125
    },
    "executionInfo": {
     "elapsed": 3449,
     "status": "ok",
     "timestamp": 1747655694655,
     "user": {
      "displayName": "Diogo Resende",
      "userId": "05706604408624562002"
     },
     "user_tz": -120
    },
    "id": "xH5ue1cnVp9p",
    "outputId": "baa8c9d3-715d-4fac-87b6-2cb0a6542275"
   },
   "outputs": [
    {
     "data": {
      "text/plain": [
       "'{\\n  \"goal\": \"To provide a comprehensive, technical understanding of Shiba Inu dog breed behavior to prepare prospective pet owners for successful ownership.\",\\n  \"queries\": [\\n    \"technical analysis of Shiba Inu dog breed behavior\",\\n    \"comprehensive guide to Shiba Inu behavior traits and temperament\",\\n    \"Shiba Inu dog behavioral challenges and solutions for new owners\",\\n    \"scientific research on Shiba Inu breed-specific behavior\",\\n    \"how to prepare for Shiba Inu ownership: technical and behavioral considerations\"\\n  ]\\n}'"
      ]
     },
     "execution_count": 39,
     "metadata": {},
     "output_type": "execute_result"
    }
   ],
   "source": [
    "# Use the responses API\n",
    "goal_and_queries = client.responses.create(\n",
    "    model = MODEL,\n",
    "    input = prompt_goals,\n",
    "    previous_response_id = clarify.id,\n",
    "    instructions = developer_message\n",
    ")\n",
    "goal_and_queries.output[0].content[0].text"
   ]
  },
  {
   "cell_type": "code",
   "execution_count": 40,
   "metadata": {
    "ExecuteTime": {
     "end_time": "2025-07-21T01:01:53.024241Z",
     "start_time": "2025-07-21T01:01:53.021089Z"
    },
    "executionInfo": {
     "elapsed": 4,
     "status": "ok",
     "timestamp": 1747655724646,
     "user": {
      "displayName": "Diogo Resende",
      "userId": "05706604408624562002"
     },
     "user_tz": -120
    },
    "id": "QuMHcTRXY7yu"
   },
   "outputs": [],
   "source": [
    "# Formatting and loading as JSON\n",
    "plan = json.loads(goal_and_queries.output[0].content[0].text)"
   ]
  },
  {
   "cell_type": "code",
   "execution_count": 41,
   "metadata": {
    "ExecuteTime": {
     "end_time": "2025-07-21T01:01:54.223685Z",
     "start_time": "2025-07-21T01:01:54.220351Z"
    },
    "colab": {
     "base_uri": "https://localhost:8080/"
    },
    "executionInfo": {
     "elapsed": 12,
     "status": "ok",
     "timestamp": 1747655741287,
     "user": {
      "displayName": "Diogo Resende",
      "userId": "05706604408624562002"
     },
     "user_tz": -120
    },
    "id": "tCSvG8JFZg2-",
    "outputId": "51867bf9-37c2-463e-f7d8-fd7b56ea1a55"
   },
   "outputs": [
    {
     "name": "stdout",
     "output_type": "stream",
     "text": [
      "To provide a comprehensive, technical understanding of Shiba Inu dog breed behavior to prepare prospective pet owners for successful ownership.\n",
      "['technical analysis of Shiba Inu dog breed behavior', 'comprehensive guide to Shiba Inu behavior traits and temperament', 'Shiba Inu dog behavioral challenges and solutions for new owners', 'scientific research on Shiba Inu breed-specific behavior', 'how to prepare for Shiba Inu ownership: technical and behavioral considerations']\n"
     ]
    }
   ],
   "source": [
    "# Check the goal and the queries\n",
    "print(plan[\"goal\"])\n",
    "print(plan[\"queries\"])"
   ]
  },
  {
   "cell_type": "code",
   "execution_count": 42,
   "metadata": {
    "ExecuteTime": {
     "end_time": "2025-07-21T01:01:55.725528Z",
     "start_time": "2025-07-21T01:01:55.723402Z"
    },
    "executionInfo": {
     "elapsed": 2,
     "status": "ok",
     "timestamp": 1747656414127,
     "user": {
      "displayName": "Diogo Resende",
      "userId": "05706604408624562002"
     },
     "user_tz": -120
    },
    "id": "vOFdUpj1cE98"
   },
   "outputs": [],
   "source": [
    "# Store the goal and queries\n",
    "goal = plan[\"goal\"]\n",
    "queries = plan[\"queries\"]"
   ]
  },
  {
   "cell_type": "markdown",
   "metadata": {
    "id": "-HwQNJ_mZrFD"
   },
   "source": [
    "## Web search"
   ]
  },
  {
   "cell_type": "code",
   "execution_count": 43,
   "metadata": {
    "ExecuteTime": {
     "end_time": "2025-07-21T01:01:56.972135Z",
     "start_time": "2025-07-21T01:01:56.969646Z"
    },
    "colab": {
     "base_uri": "https://localhost:8080/"
    },
    "executionInfo": {
     "elapsed": 9,
     "status": "ok",
     "timestamp": 1747656431743,
     "user": {
      "displayName": "Diogo Resende",
      "userId": "05706604408624562002"
     },
     "user_tz": -120
    },
    "id": "zbqKZFSfcLyt",
    "outputId": "f398e565-43f8-4a9a-9e58-c8d76cc35ca3"
   },
   "outputs": [
    {
     "name": "stdout",
     "output_type": "stream",
     "text": [
      "technical analysis of Shiba Inu dog breed behavior\n"
     ]
    }
   ],
   "source": [
    "# Print the first query\n",
    "print(queries[0])"
   ]
  },
  {
   "cell_type": "code",
   "execution_count": 46,
   "metadata": {
    "ExecuteTime": {
     "end_time": "2025-07-21T01:02:42.255382Z",
     "start_time": "2025-07-21T01:02:32.867319Z"
    },
    "executionInfo": {
     "elapsed": 13547,
     "status": "ok",
     "timestamp": 1747656698998,
     "user": {
      "displayName": "Diogo Resende",
      "userId": "05706604408624562002"
     },
     "user_tz": -120
    },
    "id": "GAPB97ZhZsfm"
   },
   "outputs": [],
   "source": [
    "# Web search with the the responses endpoint\n",
    "web_search = client.responses.create(\n",
    "    model = MODEL,\n",
    "    input = f\"search: {queries[0]}\",\n",
    "    instructions = developer_message,\n",
    "    tools = [{\"type\":\"web_search\"}]\n",
    ")"
   ]
  },
  {
   "cell_type": "code",
   "execution_count": 47,
   "metadata": {
    "ExecuteTime": {
     "end_time": "2025-07-21T01:02:43.945090Z",
     "start_time": "2025-07-21T01:02:43.941348Z"
    },
    "colab": {
     "base_uri": "https://localhost:8080/",
     "height": 36
    },
    "executionInfo": {
     "elapsed": 8,
     "status": "ok",
     "timestamp": 1747656752924,
     "user": {
      "displayName": "Diogo Resende",
      "userId": "05706604408624562002"
     },
     "user_tz": -120
    },
    "id": "rUMU8lLzdLba",
    "outputId": "3cdb1020-ef11-4387-8d0a-449ddd4a005d"
   },
   "outputs": [
    {
     "data": {
      "text/plain": [
       "'msg_687d91abcda0819896d372175b8d1c9a0af3885bb17abaed'"
      ]
     },
     "execution_count": 47,
     "metadata": {},
     "output_type": "execute_result"
    }
   ],
   "source": [
    "# Investigate the output\n",
    "# Retrieve the id\n",
    "web_search.output[1].id\n"
   ]
  },
  {
   "cell_type": "code",
   "execution_count": 48,
   "metadata": {
    "ExecuteTime": {
     "end_time": "2025-07-21T01:02:46.830602Z",
     "start_time": "2025-07-21T01:02:46.826204Z"
    },
    "colab": {
     "base_uri": "https://localhost:8080/",
     "height": 841
    },
    "collapsed": true,
    "executionInfo": {
     "elapsed": 25,
     "status": "ok",
     "timestamp": 1747656831337,
     "user": {
      "displayName": "Diogo Resende",
      "userId": "05706604408624562002"
     },
     "user_tz": -120
    },
    "id": "LbaxZCGFdkcl",
    "outputId": "6c074263-9af0-4460-f4d8-5540a88a73e5"
   },
   "outputs": [
    {
     "data": {
      "text/plain": [
       "'The Shiba Inu, Japan\\'s smallest native dog breed, exhibits a complex behavioral profile characterized by independence, intelligence, and a strong-willed nature. Understanding these traits is essential for effective training and harmonious cohabitation.\\n\\n**Independence and Strong Will**\\n\\nShiba Inus are renowned for their independent and confident demeanor. Often likened to cats, they value autonomy and may display aloofness, especially towards strangers. This independence can manifest as stubbornness, making training a challenge. Consistent, patient, and positive reinforcement techniques are crucial to navigate their strong-willed nature. ([tailwise.co](https://tailwise.co/10-essential-traits-of-the-shiba-inu-breed/?utm_source=openai))\\n\\n**Intelligence and Curiosity**\\n\\nThese dogs possess sharp intellect and keen observational skills, enabling them to learn quickly. However, their intelligence, coupled with an independent streak, can lead to selective obedience. Engaging them in activities that stimulate both mind and body is vital to prevent boredom-induced behaviors. ([tailwise.co](https://tailwise.co/10-essential-traits-of-the-shiba-inu-breed/?utm_source=openai))\\n\\n**Loyalty and Affection**\\n\\nWhile Shiba Inus may appear reserved, they form deep bonds with their families, demonstrating loyalty and affection in subtle ways. They may not seek constant attention but will show their devotion through their presence and actions. Early socialization helps them become well-adjusted companions. ([tailwise.co](https://tailwise.co/10-essential-traits-of-the-shiba-inu-breed/?utm_source=openai))\\n\\n**Prey Drive and Escape Tendencies**\\n\\nOriginally bred for hunting small game, Shiba Inus have a high prey drive, often chasing after small animals. This instinct necessitates caution during off-leash activities. They are also known for their escape artistry, requiring secure fencing and supervision to prevent wandering. ([dailypaws.com](https://www.dailypaws.com/dogs-puppies/dog-breeds/shiba-inu?utm_source=openai))\\n\\n**Vocalizations**\\n\\nA distinctive trait is the \"Shiba scream,\" a loud, high-pitched vocalization used when they are unhappy, excited, or seeking attention. This unique form of expression underscores their communicative nature. ([chewy.com](https://www.chewy.com/education/dog-breeds/Shiba-Inu?utm_source=openai))\\n\\n**Cleanliness and Grooming**\\n\\nShiba Inus are naturally clean, often grooming themselves like cats. They have a double coat that sheds heavily, especially during seasonal changes, necessitating regular brushing to manage shedding. ([dailypaws.com](https://www.dailypaws.com/dogs-puppies/dog-breeds/shiba-inu?utm_source=openai))\\n\\n**Behavioral Challenges**\\n\\nCommon issues include stubbornness, resource guarding, and selective hearing. Establishing firm leadership and providing consistent training from an early age are essential to manage these behaviors. Socialization plays a crucial role in shaping a well-mannered Shiba Inu. ([petcurious.com](https://www.petcurious.com/dog-breeds/shiba-inu/?utm_source=openai))\\n\\nIn summary, the Shiba Inu\\'s unique combination of independence, intelligence, and loyalty makes them a fascinating breed. Prospective owners should be prepared for dedicated training and socialization efforts to foster a rewarding relationship with these spirited dogs. '"
      ]
     },
     "execution_count": 48,
     "metadata": {},
     "output_type": "execute_result"
    }
   ],
   "source": [
    "web_search.output[1].content[0].text"
   ]
  },
  {
   "cell_type": "code",
   "execution_count": 49,
   "metadata": {
    "ExecuteTime": {
     "end_time": "2025-07-21T01:02:52.871159Z",
     "start_time": "2025-07-21T01:02:52.868091Z"
    },
    "executionInfo": {
     "elapsed": 42,
     "status": "ok",
     "timestamp": 1747657180730,
     "user": {
      "displayName": "Diogo Resende",
      "userId": "05706604408624562002"
     },
     "user_tz": -120
    },
    "id": "F8M-iSr6ewbf"
   },
   "outputs": [],
   "source": [
    "# Build the function for the web searches\n",
    "def run_search(q):\n",
    "  web_search = client.responses.create(\n",
    "    model = MODEL,\n",
    "    input = f\"search: {q}\",\n",
    "    instructions = developer_message,\n",
    "    tools = TOOLS\n",
    "  )\n",
    "  return {\"query\": q,\n",
    "          \"resp_id\": web_search.output[1].id,\n",
    "          \"research_output\": web_search.output[1].content[0].text}\n"
   ]
  },
  {
   "cell_type": "code",
   "execution_count": 50,
   "metadata": {
    "ExecuteTime": {
     "end_time": "2025-07-21T01:03:06.222586Z",
     "start_time": "2025-07-21T01:02:55.178433Z"
    },
    "colab": {
     "base_uri": "https://localhost:8080/"
    },
    "executionInfo": {
     "elapsed": 11750,
     "status": "ok",
     "timestamp": 1747657202439,
     "user": {
      "displayName": "Diogo Resende",
      "userId": "05706604408624562002"
     },
     "user_tz": -120
    },
    "id": "FkL-pWM6fEVr",
    "outputId": "3f25d764-d422-46e5-ecdb-f58832f3dc8f"
   },
   "outputs": [
    {
     "data": {
      "text/plain": [
       "{'query': 'technical analysis of Shiba Inu dog breed behavior',\n",
       " 'resp_id': 'msg_687d91c1be3c819a861a7a3a1d55cac903b32958d29c2e66',\n",
       " 'research_output': 'The Shiba Inu, Japan\\'s smallest native dog breed, exhibits a complex behavioral profile characterized by independence, intelligence, and a strong-willed nature. Understanding these traits is essential for effective training and harmonious cohabitation.\\n\\n**Independence and Strong Will**\\n\\nShiba Inus are renowned for their independent and confident demeanor. This self-reliance often translates into stubbornness, making them less inclined to follow commands without question. Their independent streak can be traced back to their origins as hunting dogs in Japan, where they were bred to work independently and make decisions on their own. ([tailwise.co](https://tailwise.co/10-essential-traits-of-the-shiba-inu-breed/?utm_source=openai))\\n\\n**Intelligence and Curiosity**\\n\\nThese dogs possess high intelligence and a keen sense of curiosity, enabling them to learn quickly and adapt to various situations. However, their smartness can lead to selective hearing, where they choose when to respond to commands. Their intelligence, combined with their independent streak, can make training a challenge, but it also means they can excel in various activities when properly motivated. ([orientashibainu.com](https://www.orientashibainu.com/about-5?utm_source=openai))\\n\\n**Loyalty and Affection**\\n\\nDespite their independent nature, Shiba Inus form strong bonds with their families, displaying loyalty and affection. They may not be overtly demonstrative but show their devotion through their actions and presence. Once a bond is formed, it’s deep and enduring. ([iheartdogs.com](https://iheartdogs.com/shiba-inu-temperament-whats-a-shiba-inus-personality-like/?utm_source=openai))\\n\\n**Prey Drive and Alertness**\\n\\nOriginally bred for hunting small game, Shiba Inus have a high prey drive, often chasing after small animals. They are naturally alert and make excellent watchdogs, always aware of their surroundings. This trait requires Shiba Inu owners to be cautious during off-leash activities. ([iheartdogs.com](https://iheartdogs.com/shiba-inu-temperament-whats-a-shiba-inus-personality-like/?utm_source=openai))\\n\\n**Vocalizations**\\n\\nA distinctive trait of the breed is the \"Shiba scream,\" a loud, high-pitched vocalization expressed when they are displeased, excited, or seeking attention. This unique form of communication underscores their expressive nature. ([chewy.com](https://www.chewy.com/education/dog-breeds/Shiba-Inu?utm_source=openai))\\n\\n**Cleanliness and Grooming**\\n\\nShiba Inus are known for their clean habits, often grooming themselves similarly to cats. They have a double coat that sheds heavily, especially during seasonal changes, necessitating regular brushing to manage shedding. ([dailypaws.com](https://www.dailypaws.com/dogs-puppies/dog-breeds/shiba-inu?utm_source=openai))\\n\\n**Training Challenges**\\n\\nTheir combination of intelligence and independence can make training challenging. Consistent, positive reinforcement methods are most effective. Early socialization is crucial to mitigate potential behavioral issues such as resource guarding and aggression towards other dogs. ([petcurious.com](https://www.petcurious.com/dog-breeds/shiba-inu/?utm_source=openai))\\n\\n**Exercise Needs**\\n\\nShiba Inus require regular physical and mental stimulation to prevent boredom and associated destructive behaviors. Activities like brisk walks, playtime, and agility training are beneficial. Due to their strong prey drive and tendency to wander, they should always be leashed or in a secure area during outdoor activities. ([dailypaws.com](https://www.dailypaws.com/dogs-puppies/dog-breeds/shiba-inu?utm_source=openai))\\n\\nIn summary, the Shiba Inu\\'s behavior is a blend of independence, intelligence, and loyalty. Prospective owners should be prepared for consistent training, early socialization, and regular exercise to foster a well-adjusted companion. '}"
      ]
     },
     "execution_count": 50,
     "metadata": {},
     "output_type": "execute_result"
    }
   ],
   "source": [
    "# Test the funtion\n",
    "run_search(queries[0])"
   ]
  },
  {
   "cell_type": "markdown",
   "metadata": {
    "id": "xIo4BxqUfncn"
   },
   "source": [
    "# Verifying if we have enough information to reach the goal"
   ]
  },
  {
   "cell_type": "code",
   "execution_count": 51,
   "metadata": {
    "ExecuteTime": {
     "end_time": "2025-07-21T01:03:25.239467Z",
     "start_time": "2025-07-21T01:03:25.235796Z"
    },
    "executionInfo": {
     "elapsed": 11,
     "status": "ok",
     "timestamp": 1747657697238,
     "user": {
      "displayName": "Diogo Resende",
      "userId": "05706604408624562002"
     },
     "user_tz": -120
    },
    "id": "-pctvD8XgHCS"
   },
   "outputs": [],
   "source": [
    "# Create a function that evaluates the outcome\n",
    "def evaluate(collected):\n",
    "  review = client.responses.create(\n",
    "      model = MODEL,\n",
    "      input = [\n",
    "          {\"role\": \"developer\", \"content\": f\"Research goal: {goal}\"},\n",
    "          {\"role\": \"assistant\", \"content\": json.dumps(collected)},\n",
    "          {\"role\": \"user\", \"content\": \"Does this information will fully satisfy the goal? Answer Yes or No only.\"}\n",
    "      ],\n",
    "      instructions = developer_message\n",
    "  )\n",
    "  return \"yes\" in review.output[0].content[0].text.lower()"
   ]
  },
  {
   "cell_type": "code",
   "execution_count": 52,
   "metadata": {
    "ExecuteTime": {
     "end_time": "2025-07-21T01:04:02.179536Z",
     "start_time": "2025-07-21T01:03:27.625744Z"
    },
    "executionInfo": {
     "elapsed": 61544,
     "status": "ok",
     "timestamp": 1747658392224,
     "user": {
      "displayName": "Diogo Resende",
      "userId": "05706604408624562002"
     },
     "user_tz": -120
    },
    "id": "xchZIcw7fq-N"
   },
   "outputs": [
    {
     "ename": "KeyboardInterrupt",
     "evalue": "",
     "output_type": "error",
     "traceback": [
      "\u001b[31m---------------------------------------------------------------------------\u001b[39m",
      "\u001b[31mKeyboardInterrupt\u001b[39m                         Traceback (most recent call last)",
      "\u001b[36mCell\u001b[39m\u001b[36m \u001b[39m\u001b[32mIn[52]\u001b[39m\u001b[32m, line 5\u001b[39m\n\u001b[32m      3\u001b[39m \u001b[38;5;28;01mfor\u001b[39;00m _ \u001b[38;5;129;01min\u001b[39;00m itertools.count():\n\u001b[32m      4\u001b[39m   \u001b[38;5;28;01mfor\u001b[39;00m q \u001b[38;5;129;01min\u001b[39;00m queries:\n\u001b[32m----> \u001b[39m\u001b[32m5\u001b[39m     collected.append(\u001b[43mrun_search\u001b[49m\u001b[43m(\u001b[49m\u001b[43mq\u001b[49m\u001b[43m)\u001b[49m)\n\u001b[32m      6\u001b[39m   \u001b[38;5;28;01mif\u001b[39;00m evaluate(collected):\n\u001b[32m      7\u001b[39m     \u001b[38;5;28;01mbreak\u001b[39;00m\n",
      "\u001b[36mCell\u001b[39m\u001b[36m \u001b[39m\u001b[32mIn[49]\u001b[39m\u001b[32m, line 3\u001b[39m, in \u001b[36mrun_search\u001b[39m\u001b[34m(q)\u001b[39m\n\u001b[32m      2\u001b[39m \u001b[38;5;28;01mdef\u001b[39;00m\u001b[38;5;250m \u001b[39m\u001b[34mrun_search\u001b[39m(q):\n\u001b[32m----> \u001b[39m\u001b[32m3\u001b[39m   web_search = \u001b[43mclient\u001b[49m\u001b[43m.\u001b[49m\u001b[43mresponses\u001b[49m\u001b[43m.\u001b[49m\u001b[43mcreate\u001b[49m\u001b[43m(\u001b[49m\n\u001b[32m      4\u001b[39m \u001b[43m    \u001b[49m\u001b[43mmodel\u001b[49m\u001b[43m \u001b[49m\u001b[43m=\u001b[49m\u001b[43m \u001b[49m\u001b[43mMODEL\u001b[49m\u001b[43m,\u001b[49m\n\u001b[32m      5\u001b[39m \u001b[43m    \u001b[49m\u001b[38;5;28;43minput\u001b[39;49m\u001b[43m \u001b[49m\u001b[43m=\u001b[49m\u001b[43m \u001b[49m\u001b[33;43mf\u001b[39;49m\u001b[33;43m\"\u001b[39;49m\u001b[33;43msearch: \u001b[39;49m\u001b[38;5;132;43;01m{\u001b[39;49;00m\u001b[43mq\u001b[49m\u001b[38;5;132;43;01m}\u001b[39;49;00m\u001b[33;43m\"\u001b[39;49m\u001b[43m,\u001b[49m\n\u001b[32m      6\u001b[39m \u001b[43m    \u001b[49m\u001b[43minstructions\u001b[49m\u001b[43m \u001b[49m\u001b[43m=\u001b[49m\u001b[43m \u001b[49m\u001b[43mdeveloper_message\u001b[49m\u001b[43m,\u001b[49m\n\u001b[32m      7\u001b[39m \u001b[43m    \u001b[49m\u001b[43mtools\u001b[49m\u001b[43m \u001b[49m\u001b[43m=\u001b[49m\u001b[43m \u001b[49m\u001b[43mTOOLS\u001b[49m\n\u001b[32m      8\u001b[39m \u001b[43m  \u001b[49m\u001b[43m)\u001b[49m\n\u001b[32m      9\u001b[39m   \u001b[38;5;28;01mreturn\u001b[39;00m {\u001b[33m\"\u001b[39m\u001b[33mquery\u001b[39m\u001b[33m\"\u001b[39m: q,\n\u001b[32m     10\u001b[39m           \u001b[33m\"\u001b[39m\u001b[33mresp_id\u001b[39m\u001b[33m\"\u001b[39m: web_search.output[\u001b[32m1\u001b[39m].id,\n\u001b[32m     11\u001b[39m           \u001b[33m\"\u001b[39m\u001b[33mresearch_output\u001b[39m\u001b[33m\"\u001b[39m: web_search.output[\u001b[32m1\u001b[39m].content[\u001b[32m0\u001b[39m].text}\n",
      "\u001b[36mFile \u001b[39m\u001b[32m~/Downloads/OpenAI - Deep Research Clone/.venv/lib/python3.13/site-packages/openai/resources/responses/responses.py:735\u001b[39m, in \u001b[36mResponses.create\u001b[39m\u001b[34m(self, background, include, input, instructions, max_output_tokens, max_tool_calls, metadata, model, parallel_tool_calls, previous_response_id, prompt, reasoning, service_tier, store, stream, temperature, text, tool_choice, tools, top_logprobs, top_p, truncation, user, extra_headers, extra_query, extra_body, timeout)\u001b[39m\n\u001b[32m    702\u001b[39m \u001b[38;5;28;01mdef\u001b[39;00m\u001b[38;5;250m \u001b[39m\u001b[34mcreate\u001b[39m(\n\u001b[32m    703\u001b[39m     \u001b[38;5;28mself\u001b[39m,\n\u001b[32m    704\u001b[39m     *,\n\u001b[32m   (...)\u001b[39m\u001b[32m    733\u001b[39m     timeout: \u001b[38;5;28mfloat\u001b[39m | httpx.Timeout | \u001b[38;5;28;01mNone\u001b[39;00m | NotGiven = NOT_GIVEN,\n\u001b[32m    734\u001b[39m ) -> Response | Stream[ResponseStreamEvent]:\n\u001b[32m--> \u001b[39m\u001b[32m735\u001b[39m     \u001b[38;5;28;01mreturn\u001b[39;00m \u001b[38;5;28;43mself\u001b[39;49m\u001b[43m.\u001b[49m\u001b[43m_post\u001b[49m\u001b[43m(\u001b[49m\n\u001b[32m    736\u001b[39m \u001b[43m        \u001b[49m\u001b[33;43m\"\u001b[39;49m\u001b[33;43m/responses\u001b[39;49m\u001b[33;43m\"\u001b[39;49m\u001b[43m,\u001b[49m\n\u001b[32m    737\u001b[39m \u001b[43m        \u001b[49m\u001b[43mbody\u001b[49m\u001b[43m=\u001b[49m\u001b[43mmaybe_transform\u001b[49m\u001b[43m(\u001b[49m\n\u001b[32m    738\u001b[39m \u001b[43m            \u001b[49m\u001b[43m{\u001b[49m\n\u001b[32m    739\u001b[39m \u001b[43m                \u001b[49m\u001b[33;43m\"\u001b[39;49m\u001b[33;43mbackground\u001b[39;49m\u001b[33;43m\"\u001b[39;49m\u001b[43m:\u001b[49m\u001b[43m \u001b[49m\u001b[43mbackground\u001b[49m\u001b[43m,\u001b[49m\n\u001b[32m    740\u001b[39m \u001b[43m                \u001b[49m\u001b[33;43m\"\u001b[39;49m\u001b[33;43minclude\u001b[39;49m\u001b[33;43m\"\u001b[39;49m\u001b[43m:\u001b[49m\u001b[43m \u001b[49m\u001b[43minclude\u001b[49m\u001b[43m,\u001b[49m\n\u001b[32m    741\u001b[39m \u001b[43m                \u001b[49m\u001b[33;43m\"\u001b[39;49m\u001b[33;43minput\u001b[39;49m\u001b[33;43m\"\u001b[39;49m\u001b[43m:\u001b[49m\u001b[43m \u001b[49m\u001b[38;5;28;43minput\u001b[39;49m\u001b[43m,\u001b[49m\n\u001b[32m    742\u001b[39m \u001b[43m                \u001b[49m\u001b[33;43m\"\u001b[39;49m\u001b[33;43minstructions\u001b[39;49m\u001b[33;43m\"\u001b[39;49m\u001b[43m:\u001b[49m\u001b[43m \u001b[49m\u001b[43minstructions\u001b[49m\u001b[43m,\u001b[49m\n\u001b[32m    743\u001b[39m \u001b[43m                \u001b[49m\u001b[33;43m\"\u001b[39;49m\u001b[33;43mmax_output_tokens\u001b[39;49m\u001b[33;43m\"\u001b[39;49m\u001b[43m:\u001b[49m\u001b[43m \u001b[49m\u001b[43mmax_output_tokens\u001b[49m\u001b[43m,\u001b[49m\n\u001b[32m    744\u001b[39m \u001b[43m                \u001b[49m\u001b[33;43m\"\u001b[39;49m\u001b[33;43mmax_tool_calls\u001b[39;49m\u001b[33;43m\"\u001b[39;49m\u001b[43m:\u001b[49m\u001b[43m \u001b[49m\u001b[43mmax_tool_calls\u001b[49m\u001b[43m,\u001b[49m\n\u001b[32m    745\u001b[39m \u001b[43m                \u001b[49m\u001b[33;43m\"\u001b[39;49m\u001b[33;43mmetadata\u001b[39;49m\u001b[33;43m\"\u001b[39;49m\u001b[43m:\u001b[49m\u001b[43m \u001b[49m\u001b[43mmetadata\u001b[49m\u001b[43m,\u001b[49m\n\u001b[32m    746\u001b[39m \u001b[43m                \u001b[49m\u001b[33;43m\"\u001b[39;49m\u001b[33;43mmodel\u001b[39;49m\u001b[33;43m\"\u001b[39;49m\u001b[43m:\u001b[49m\u001b[43m \u001b[49m\u001b[43mmodel\u001b[49m\u001b[43m,\u001b[49m\n\u001b[32m    747\u001b[39m \u001b[43m                \u001b[49m\u001b[33;43m\"\u001b[39;49m\u001b[33;43mparallel_tool_calls\u001b[39;49m\u001b[33;43m\"\u001b[39;49m\u001b[43m:\u001b[49m\u001b[43m \u001b[49m\u001b[43mparallel_tool_calls\u001b[49m\u001b[43m,\u001b[49m\n\u001b[32m    748\u001b[39m \u001b[43m                \u001b[49m\u001b[33;43m\"\u001b[39;49m\u001b[33;43mprevious_response_id\u001b[39;49m\u001b[33;43m\"\u001b[39;49m\u001b[43m:\u001b[49m\u001b[43m \u001b[49m\u001b[43mprevious_response_id\u001b[49m\u001b[43m,\u001b[49m\n\u001b[32m    749\u001b[39m \u001b[43m                \u001b[49m\u001b[33;43m\"\u001b[39;49m\u001b[33;43mprompt\u001b[39;49m\u001b[33;43m\"\u001b[39;49m\u001b[43m:\u001b[49m\u001b[43m \u001b[49m\u001b[43mprompt\u001b[49m\u001b[43m,\u001b[49m\n\u001b[32m    750\u001b[39m \u001b[43m                \u001b[49m\u001b[33;43m\"\u001b[39;49m\u001b[33;43mreasoning\u001b[39;49m\u001b[33;43m\"\u001b[39;49m\u001b[43m:\u001b[49m\u001b[43m \u001b[49m\u001b[43mreasoning\u001b[49m\u001b[43m,\u001b[49m\n\u001b[32m    751\u001b[39m \u001b[43m                \u001b[49m\u001b[33;43m\"\u001b[39;49m\u001b[33;43mservice_tier\u001b[39;49m\u001b[33;43m\"\u001b[39;49m\u001b[43m:\u001b[49m\u001b[43m \u001b[49m\u001b[43mservice_tier\u001b[49m\u001b[43m,\u001b[49m\n\u001b[32m    752\u001b[39m \u001b[43m                \u001b[49m\u001b[33;43m\"\u001b[39;49m\u001b[33;43mstore\u001b[39;49m\u001b[33;43m\"\u001b[39;49m\u001b[43m:\u001b[49m\u001b[43m \u001b[49m\u001b[43mstore\u001b[49m\u001b[43m,\u001b[49m\n\u001b[32m    753\u001b[39m \u001b[43m                \u001b[49m\u001b[33;43m\"\u001b[39;49m\u001b[33;43mstream\u001b[39;49m\u001b[33;43m\"\u001b[39;49m\u001b[43m:\u001b[49m\u001b[43m \u001b[49m\u001b[43mstream\u001b[49m\u001b[43m,\u001b[49m\n\u001b[32m    754\u001b[39m \u001b[43m                \u001b[49m\u001b[33;43m\"\u001b[39;49m\u001b[33;43mtemperature\u001b[39;49m\u001b[33;43m\"\u001b[39;49m\u001b[43m:\u001b[49m\u001b[43m \u001b[49m\u001b[43mtemperature\u001b[49m\u001b[43m,\u001b[49m\n\u001b[32m    755\u001b[39m \u001b[43m                \u001b[49m\u001b[33;43m\"\u001b[39;49m\u001b[33;43mtext\u001b[39;49m\u001b[33;43m\"\u001b[39;49m\u001b[43m:\u001b[49m\u001b[43m \u001b[49m\u001b[43mtext\u001b[49m\u001b[43m,\u001b[49m\n\u001b[32m    756\u001b[39m \u001b[43m                \u001b[49m\u001b[33;43m\"\u001b[39;49m\u001b[33;43mtool_choice\u001b[39;49m\u001b[33;43m\"\u001b[39;49m\u001b[43m:\u001b[49m\u001b[43m \u001b[49m\u001b[43mtool_choice\u001b[49m\u001b[43m,\u001b[49m\n\u001b[32m    757\u001b[39m \u001b[43m                \u001b[49m\u001b[33;43m\"\u001b[39;49m\u001b[33;43mtools\u001b[39;49m\u001b[33;43m\"\u001b[39;49m\u001b[43m:\u001b[49m\u001b[43m \u001b[49m\u001b[43mtools\u001b[49m\u001b[43m,\u001b[49m\n\u001b[32m    758\u001b[39m \u001b[43m                \u001b[49m\u001b[33;43m\"\u001b[39;49m\u001b[33;43mtop_logprobs\u001b[39;49m\u001b[33;43m\"\u001b[39;49m\u001b[43m:\u001b[49m\u001b[43m \u001b[49m\u001b[43mtop_logprobs\u001b[49m\u001b[43m,\u001b[49m\n\u001b[32m    759\u001b[39m \u001b[43m                \u001b[49m\u001b[33;43m\"\u001b[39;49m\u001b[33;43mtop_p\u001b[39;49m\u001b[33;43m\"\u001b[39;49m\u001b[43m:\u001b[49m\u001b[43m \u001b[49m\u001b[43mtop_p\u001b[49m\u001b[43m,\u001b[49m\n\u001b[32m    760\u001b[39m \u001b[43m                \u001b[49m\u001b[33;43m\"\u001b[39;49m\u001b[33;43mtruncation\u001b[39;49m\u001b[33;43m\"\u001b[39;49m\u001b[43m:\u001b[49m\u001b[43m \u001b[49m\u001b[43mtruncation\u001b[49m\u001b[43m,\u001b[49m\n\u001b[32m    761\u001b[39m \u001b[43m                \u001b[49m\u001b[33;43m\"\u001b[39;49m\u001b[33;43muser\u001b[39;49m\u001b[33;43m\"\u001b[39;49m\u001b[43m:\u001b[49m\u001b[43m \u001b[49m\u001b[43muser\u001b[49m\u001b[43m,\u001b[49m\n\u001b[32m    762\u001b[39m \u001b[43m            \u001b[49m\u001b[43m}\u001b[49m\u001b[43m,\u001b[49m\n\u001b[32m    763\u001b[39m \u001b[43m            \u001b[49m\u001b[43mresponse_create_params\u001b[49m\u001b[43m.\u001b[49m\u001b[43mResponseCreateParamsStreaming\u001b[49m\n\u001b[32m    764\u001b[39m \u001b[43m            \u001b[49m\u001b[38;5;28;43;01mif\u001b[39;49;00m\u001b[43m \u001b[49m\u001b[43mstream\u001b[49m\n\u001b[32m    765\u001b[39m \u001b[43m            \u001b[49m\u001b[38;5;28;43;01melse\u001b[39;49;00m\u001b[43m \u001b[49m\u001b[43mresponse_create_params\u001b[49m\u001b[43m.\u001b[49m\u001b[43mResponseCreateParamsNonStreaming\u001b[49m\u001b[43m,\u001b[49m\n\u001b[32m    766\u001b[39m \u001b[43m        \u001b[49m\u001b[43m)\u001b[49m\u001b[43m,\u001b[49m\n\u001b[32m    767\u001b[39m \u001b[43m        \u001b[49m\u001b[43moptions\u001b[49m\u001b[43m=\u001b[49m\u001b[43mmake_request_options\u001b[49m\u001b[43m(\u001b[49m\n\u001b[32m    768\u001b[39m \u001b[43m            \u001b[49m\u001b[43mextra_headers\u001b[49m\u001b[43m=\u001b[49m\u001b[43mextra_headers\u001b[49m\u001b[43m,\u001b[49m\u001b[43m \u001b[49m\u001b[43mextra_query\u001b[49m\u001b[43m=\u001b[49m\u001b[43mextra_query\u001b[49m\u001b[43m,\u001b[49m\u001b[43m \u001b[49m\u001b[43mextra_body\u001b[49m\u001b[43m=\u001b[49m\u001b[43mextra_body\u001b[49m\u001b[43m,\u001b[49m\u001b[43m \u001b[49m\u001b[43mtimeout\u001b[49m\u001b[43m=\u001b[49m\u001b[43mtimeout\u001b[49m\n\u001b[32m    769\u001b[39m \u001b[43m        \u001b[49m\u001b[43m)\u001b[49m\u001b[43m,\u001b[49m\n\u001b[32m    770\u001b[39m \u001b[43m        \u001b[49m\u001b[43mcast_to\u001b[49m\u001b[43m=\u001b[49m\u001b[43mResponse\u001b[49m\u001b[43m,\u001b[49m\n\u001b[32m    771\u001b[39m \u001b[43m        \u001b[49m\u001b[43mstream\u001b[49m\u001b[43m=\u001b[49m\u001b[43mstream\u001b[49m\u001b[43m \u001b[49m\u001b[38;5;129;43;01mor\u001b[39;49;00m\u001b[43m \u001b[49m\u001b[38;5;28;43;01mFalse\u001b[39;49;00m\u001b[43m,\u001b[49m\n\u001b[32m    772\u001b[39m \u001b[43m        \u001b[49m\u001b[43mstream_cls\u001b[49m\u001b[43m=\u001b[49m\u001b[43mStream\u001b[49m\u001b[43m[\u001b[49m\u001b[43mResponseStreamEvent\u001b[49m\u001b[43m]\u001b[49m\u001b[43m,\u001b[49m\n\u001b[32m    773\u001b[39m \u001b[43m    \u001b[49m\u001b[43m)\u001b[49m\n",
      "\u001b[36mFile \u001b[39m\u001b[32m~/Downloads/OpenAI - Deep Research Clone/.venv/lib/python3.13/site-packages/openai/_base_client.py:1256\u001b[39m, in \u001b[36mSyncAPIClient.post\u001b[39m\u001b[34m(self, path, cast_to, body, options, files, stream, stream_cls)\u001b[39m\n\u001b[32m   1242\u001b[39m \u001b[38;5;28;01mdef\u001b[39;00m\u001b[38;5;250m \u001b[39m\u001b[34mpost\u001b[39m(\n\u001b[32m   1243\u001b[39m     \u001b[38;5;28mself\u001b[39m,\n\u001b[32m   1244\u001b[39m     path: \u001b[38;5;28mstr\u001b[39m,\n\u001b[32m   (...)\u001b[39m\u001b[32m   1251\u001b[39m     stream_cls: \u001b[38;5;28mtype\u001b[39m[_StreamT] | \u001b[38;5;28;01mNone\u001b[39;00m = \u001b[38;5;28;01mNone\u001b[39;00m,\n\u001b[32m   1252\u001b[39m ) -> ResponseT | _StreamT:\n\u001b[32m   1253\u001b[39m     opts = FinalRequestOptions.construct(\n\u001b[32m   1254\u001b[39m         method=\u001b[33m\"\u001b[39m\u001b[33mpost\u001b[39m\u001b[33m\"\u001b[39m, url=path, json_data=body, files=to_httpx_files(files), **options\n\u001b[32m   1255\u001b[39m     )\n\u001b[32m-> \u001b[39m\u001b[32m1256\u001b[39m     \u001b[38;5;28;01mreturn\u001b[39;00m cast(ResponseT, \u001b[38;5;28;43mself\u001b[39;49m\u001b[43m.\u001b[49m\u001b[43mrequest\u001b[49m\u001b[43m(\u001b[49m\u001b[43mcast_to\u001b[49m\u001b[43m,\u001b[49m\u001b[43m \u001b[49m\u001b[43mopts\u001b[49m\u001b[43m,\u001b[49m\u001b[43m \u001b[49m\u001b[43mstream\u001b[49m\u001b[43m=\u001b[49m\u001b[43mstream\u001b[49m\u001b[43m,\u001b[49m\u001b[43m \u001b[49m\u001b[43mstream_cls\u001b[49m\u001b[43m=\u001b[49m\u001b[43mstream_cls\u001b[49m\u001b[43m)\u001b[49m)\n",
      "\u001b[36mFile \u001b[39m\u001b[32m~/Downloads/OpenAI - Deep Research Clone/.venv/lib/python3.13/site-packages/openai/_base_client.py:979\u001b[39m, in \u001b[36mSyncAPIClient.request\u001b[39m\u001b[34m(self, cast_to, options, stream, stream_cls)\u001b[39m\n\u001b[32m    977\u001b[39m response = \u001b[38;5;28;01mNone\u001b[39;00m\n\u001b[32m    978\u001b[39m \u001b[38;5;28;01mtry\u001b[39;00m:\n\u001b[32m--> \u001b[39m\u001b[32m979\u001b[39m     response = \u001b[38;5;28;43mself\u001b[39;49m\u001b[43m.\u001b[49m\u001b[43m_client\u001b[49m\u001b[43m.\u001b[49m\u001b[43msend\u001b[49m\u001b[43m(\u001b[49m\n\u001b[32m    980\u001b[39m \u001b[43m        \u001b[49m\u001b[43mrequest\u001b[49m\u001b[43m,\u001b[49m\n\u001b[32m    981\u001b[39m \u001b[43m        \u001b[49m\u001b[43mstream\u001b[49m\u001b[43m=\u001b[49m\u001b[43mstream\u001b[49m\u001b[43m \u001b[49m\u001b[38;5;129;43;01mor\u001b[39;49;00m\u001b[43m \u001b[49m\u001b[38;5;28;43mself\u001b[39;49m\u001b[43m.\u001b[49m\u001b[43m_should_stream_response_body\u001b[49m\u001b[43m(\u001b[49m\u001b[43mrequest\u001b[49m\u001b[43m=\u001b[49m\u001b[43mrequest\u001b[49m\u001b[43m)\u001b[49m\u001b[43m,\u001b[49m\n\u001b[32m    982\u001b[39m \u001b[43m        \u001b[49m\u001b[43m*\u001b[49m\u001b[43m*\u001b[49m\u001b[43mkwargs\u001b[49m\u001b[43m,\u001b[49m\n\u001b[32m    983\u001b[39m \u001b[43m    \u001b[49m\u001b[43m)\u001b[49m\n\u001b[32m    984\u001b[39m \u001b[38;5;28;01mexcept\u001b[39;00m httpx.TimeoutException \u001b[38;5;28;01mas\u001b[39;00m err:\n\u001b[32m    985\u001b[39m     log.debug(\u001b[33m\"\u001b[39m\u001b[33mEncountered httpx.TimeoutException\u001b[39m\u001b[33m\"\u001b[39m, exc_info=\u001b[38;5;28;01mTrue\u001b[39;00m)\n",
      "\u001b[36mFile \u001b[39m\u001b[32m~/Downloads/OpenAI - Deep Research Clone/.venv/lib/python3.13/site-packages/httpx/_client.py:914\u001b[39m, in \u001b[36mClient.send\u001b[39m\u001b[34m(self, request, stream, auth, follow_redirects)\u001b[39m\n\u001b[32m    910\u001b[39m \u001b[38;5;28mself\u001b[39m._set_timeout(request)\n\u001b[32m    912\u001b[39m auth = \u001b[38;5;28mself\u001b[39m._build_request_auth(request, auth)\n\u001b[32m--> \u001b[39m\u001b[32m914\u001b[39m response = \u001b[38;5;28;43mself\u001b[39;49m\u001b[43m.\u001b[49m\u001b[43m_send_handling_auth\u001b[49m\u001b[43m(\u001b[49m\n\u001b[32m    915\u001b[39m \u001b[43m    \u001b[49m\u001b[43mrequest\u001b[49m\u001b[43m,\u001b[49m\n\u001b[32m    916\u001b[39m \u001b[43m    \u001b[49m\u001b[43mauth\u001b[49m\u001b[43m=\u001b[49m\u001b[43mauth\u001b[49m\u001b[43m,\u001b[49m\n\u001b[32m    917\u001b[39m \u001b[43m    \u001b[49m\u001b[43mfollow_redirects\u001b[49m\u001b[43m=\u001b[49m\u001b[43mfollow_redirects\u001b[49m\u001b[43m,\u001b[49m\n\u001b[32m    918\u001b[39m \u001b[43m    \u001b[49m\u001b[43mhistory\u001b[49m\u001b[43m=\u001b[49m\u001b[43m[\u001b[49m\u001b[43m]\u001b[49m\u001b[43m,\u001b[49m\n\u001b[32m    919\u001b[39m \u001b[43m\u001b[49m\u001b[43m)\u001b[49m\n\u001b[32m    920\u001b[39m \u001b[38;5;28;01mtry\u001b[39;00m:\n\u001b[32m    921\u001b[39m     \u001b[38;5;28;01mif\u001b[39;00m \u001b[38;5;129;01mnot\u001b[39;00m stream:\n",
      "\u001b[36mFile \u001b[39m\u001b[32m~/Downloads/OpenAI - Deep Research Clone/.venv/lib/python3.13/site-packages/httpx/_client.py:942\u001b[39m, in \u001b[36mClient._send_handling_auth\u001b[39m\u001b[34m(self, request, auth, follow_redirects, history)\u001b[39m\n\u001b[32m    939\u001b[39m request = \u001b[38;5;28mnext\u001b[39m(auth_flow)\n\u001b[32m    941\u001b[39m \u001b[38;5;28;01mwhile\u001b[39;00m \u001b[38;5;28;01mTrue\u001b[39;00m:\n\u001b[32m--> \u001b[39m\u001b[32m942\u001b[39m     response = \u001b[38;5;28;43mself\u001b[39;49m\u001b[43m.\u001b[49m\u001b[43m_send_handling_redirects\u001b[49m\u001b[43m(\u001b[49m\n\u001b[32m    943\u001b[39m \u001b[43m        \u001b[49m\u001b[43mrequest\u001b[49m\u001b[43m,\u001b[49m\n\u001b[32m    944\u001b[39m \u001b[43m        \u001b[49m\u001b[43mfollow_redirects\u001b[49m\u001b[43m=\u001b[49m\u001b[43mfollow_redirects\u001b[49m\u001b[43m,\u001b[49m\n\u001b[32m    945\u001b[39m \u001b[43m        \u001b[49m\u001b[43mhistory\u001b[49m\u001b[43m=\u001b[49m\u001b[43mhistory\u001b[49m\u001b[43m,\u001b[49m\n\u001b[32m    946\u001b[39m \u001b[43m    \u001b[49m\u001b[43m)\u001b[49m\n\u001b[32m    947\u001b[39m     \u001b[38;5;28;01mtry\u001b[39;00m:\n\u001b[32m    948\u001b[39m         \u001b[38;5;28;01mtry\u001b[39;00m:\n",
      "\u001b[36mFile \u001b[39m\u001b[32m~/Downloads/OpenAI - Deep Research Clone/.venv/lib/python3.13/site-packages/httpx/_client.py:979\u001b[39m, in \u001b[36mClient._send_handling_redirects\u001b[39m\u001b[34m(self, request, follow_redirects, history)\u001b[39m\n\u001b[32m    976\u001b[39m \u001b[38;5;28;01mfor\u001b[39;00m hook \u001b[38;5;129;01min\u001b[39;00m \u001b[38;5;28mself\u001b[39m._event_hooks[\u001b[33m\"\u001b[39m\u001b[33mrequest\u001b[39m\u001b[33m\"\u001b[39m]:\n\u001b[32m    977\u001b[39m     hook(request)\n\u001b[32m--> \u001b[39m\u001b[32m979\u001b[39m response = \u001b[38;5;28;43mself\u001b[39;49m\u001b[43m.\u001b[49m\u001b[43m_send_single_request\u001b[49m\u001b[43m(\u001b[49m\u001b[43mrequest\u001b[49m\u001b[43m)\u001b[49m\n\u001b[32m    980\u001b[39m \u001b[38;5;28;01mtry\u001b[39;00m:\n\u001b[32m    981\u001b[39m     \u001b[38;5;28;01mfor\u001b[39;00m hook \u001b[38;5;129;01min\u001b[39;00m \u001b[38;5;28mself\u001b[39m._event_hooks[\u001b[33m\"\u001b[39m\u001b[33mresponse\u001b[39m\u001b[33m\"\u001b[39m]:\n",
      "\u001b[36mFile \u001b[39m\u001b[32m~/Downloads/OpenAI - Deep Research Clone/.venv/lib/python3.13/site-packages/httpx/_client.py:1014\u001b[39m, in \u001b[36mClient._send_single_request\u001b[39m\u001b[34m(self, request)\u001b[39m\n\u001b[32m   1009\u001b[39m     \u001b[38;5;28;01mraise\u001b[39;00m \u001b[38;5;167;01mRuntimeError\u001b[39;00m(\n\u001b[32m   1010\u001b[39m         \u001b[33m\"\u001b[39m\u001b[33mAttempted to send an async request with a sync Client instance.\u001b[39m\u001b[33m\"\u001b[39m\n\u001b[32m   1011\u001b[39m     )\n\u001b[32m   1013\u001b[39m \u001b[38;5;28;01mwith\u001b[39;00m request_context(request=request):\n\u001b[32m-> \u001b[39m\u001b[32m1014\u001b[39m     response = \u001b[43mtransport\u001b[49m\u001b[43m.\u001b[49m\u001b[43mhandle_request\u001b[49m\u001b[43m(\u001b[49m\u001b[43mrequest\u001b[49m\u001b[43m)\u001b[49m\n\u001b[32m   1016\u001b[39m \u001b[38;5;28;01massert\u001b[39;00m \u001b[38;5;28misinstance\u001b[39m(response.stream, SyncByteStream)\n\u001b[32m   1018\u001b[39m response.request = request\n",
      "\u001b[36mFile \u001b[39m\u001b[32m~/Downloads/OpenAI - Deep Research Clone/.venv/lib/python3.13/site-packages/httpx/_transports/default.py:250\u001b[39m, in \u001b[36mHTTPTransport.handle_request\u001b[39m\u001b[34m(self, request)\u001b[39m\n\u001b[32m    237\u001b[39m req = httpcore.Request(\n\u001b[32m    238\u001b[39m     method=request.method,\n\u001b[32m    239\u001b[39m     url=httpcore.URL(\n\u001b[32m   (...)\u001b[39m\u001b[32m    247\u001b[39m     extensions=request.extensions,\n\u001b[32m    248\u001b[39m )\n\u001b[32m    249\u001b[39m \u001b[38;5;28;01mwith\u001b[39;00m map_httpcore_exceptions():\n\u001b[32m--> \u001b[39m\u001b[32m250\u001b[39m     resp = \u001b[38;5;28;43mself\u001b[39;49m\u001b[43m.\u001b[49m\u001b[43m_pool\u001b[49m\u001b[43m.\u001b[49m\u001b[43mhandle_request\u001b[49m\u001b[43m(\u001b[49m\u001b[43mreq\u001b[49m\u001b[43m)\u001b[49m\n\u001b[32m    252\u001b[39m \u001b[38;5;28;01massert\u001b[39;00m \u001b[38;5;28misinstance\u001b[39m(resp.stream, typing.Iterable)\n\u001b[32m    254\u001b[39m \u001b[38;5;28;01mreturn\u001b[39;00m Response(\n\u001b[32m    255\u001b[39m     status_code=resp.status,\n\u001b[32m    256\u001b[39m     headers=resp.headers,\n\u001b[32m    257\u001b[39m     stream=ResponseStream(resp.stream),\n\u001b[32m    258\u001b[39m     extensions=resp.extensions,\n\u001b[32m    259\u001b[39m )\n",
      "\u001b[36mFile \u001b[39m\u001b[32m~/Downloads/OpenAI - Deep Research Clone/.venv/lib/python3.13/site-packages/httpcore/_sync/connection_pool.py:256\u001b[39m, in \u001b[36mConnectionPool.handle_request\u001b[39m\u001b[34m(self, request)\u001b[39m\n\u001b[32m    253\u001b[39m         closing = \u001b[38;5;28mself\u001b[39m._assign_requests_to_connections()\n\u001b[32m    255\u001b[39m     \u001b[38;5;28mself\u001b[39m._close_connections(closing)\n\u001b[32m--> \u001b[39m\u001b[32m256\u001b[39m     \u001b[38;5;28;01mraise\u001b[39;00m exc \u001b[38;5;28;01mfrom\u001b[39;00m\u001b[38;5;250m \u001b[39m\u001b[38;5;28;01mNone\u001b[39;00m\n\u001b[32m    258\u001b[39m \u001b[38;5;66;03m# Return the response. Note that in this case we still have to manage\u001b[39;00m\n\u001b[32m    259\u001b[39m \u001b[38;5;66;03m# the point at which the response is closed.\u001b[39;00m\n\u001b[32m    260\u001b[39m \u001b[38;5;28;01massert\u001b[39;00m \u001b[38;5;28misinstance\u001b[39m(response.stream, typing.Iterable)\n",
      "\u001b[36mFile \u001b[39m\u001b[32m~/Downloads/OpenAI - Deep Research Clone/.venv/lib/python3.13/site-packages/httpcore/_sync/connection_pool.py:236\u001b[39m, in \u001b[36mConnectionPool.handle_request\u001b[39m\u001b[34m(self, request)\u001b[39m\n\u001b[32m    232\u001b[39m connection = pool_request.wait_for_connection(timeout=timeout)\n\u001b[32m    234\u001b[39m \u001b[38;5;28;01mtry\u001b[39;00m:\n\u001b[32m    235\u001b[39m     \u001b[38;5;66;03m# Send the request on the assigned connection.\u001b[39;00m\n\u001b[32m--> \u001b[39m\u001b[32m236\u001b[39m     response = \u001b[43mconnection\u001b[49m\u001b[43m.\u001b[49m\u001b[43mhandle_request\u001b[49m\u001b[43m(\u001b[49m\n\u001b[32m    237\u001b[39m \u001b[43m        \u001b[49m\u001b[43mpool_request\u001b[49m\u001b[43m.\u001b[49m\u001b[43mrequest\u001b[49m\n\u001b[32m    238\u001b[39m \u001b[43m    \u001b[49m\u001b[43m)\u001b[49m\n\u001b[32m    239\u001b[39m \u001b[38;5;28;01mexcept\u001b[39;00m ConnectionNotAvailable:\n\u001b[32m    240\u001b[39m     \u001b[38;5;66;03m# In some cases a connection may initially be available to\u001b[39;00m\n\u001b[32m    241\u001b[39m     \u001b[38;5;66;03m# handle a request, but then become unavailable.\u001b[39;00m\n\u001b[32m    242\u001b[39m     \u001b[38;5;66;03m#\u001b[39;00m\n\u001b[32m    243\u001b[39m     \u001b[38;5;66;03m# In this case we clear the connection and try again.\u001b[39;00m\n\u001b[32m    244\u001b[39m     pool_request.clear_connection()\n",
      "\u001b[36mFile \u001b[39m\u001b[32m~/Downloads/OpenAI - Deep Research Clone/.venv/lib/python3.13/site-packages/httpcore/_sync/connection.py:103\u001b[39m, in \u001b[36mHTTPConnection.handle_request\u001b[39m\u001b[34m(self, request)\u001b[39m\n\u001b[32m    100\u001b[39m     \u001b[38;5;28mself\u001b[39m._connect_failed = \u001b[38;5;28;01mTrue\u001b[39;00m\n\u001b[32m    101\u001b[39m     \u001b[38;5;28;01mraise\u001b[39;00m exc\n\u001b[32m--> \u001b[39m\u001b[32m103\u001b[39m \u001b[38;5;28;01mreturn\u001b[39;00m \u001b[38;5;28;43mself\u001b[39;49m\u001b[43m.\u001b[49m\u001b[43m_connection\u001b[49m\u001b[43m.\u001b[49m\u001b[43mhandle_request\u001b[49m\u001b[43m(\u001b[49m\u001b[43mrequest\u001b[49m\u001b[43m)\u001b[49m\n",
      "\u001b[36mFile \u001b[39m\u001b[32m~/Downloads/OpenAI - Deep Research Clone/.venv/lib/python3.13/site-packages/httpcore/_sync/http11.py:136\u001b[39m, in \u001b[36mHTTP11Connection.handle_request\u001b[39m\u001b[34m(self, request)\u001b[39m\n\u001b[32m    134\u001b[39m     \u001b[38;5;28;01mwith\u001b[39;00m Trace(\u001b[33m\"\u001b[39m\u001b[33mresponse_closed\u001b[39m\u001b[33m\"\u001b[39m, logger, request) \u001b[38;5;28;01mas\u001b[39;00m trace:\n\u001b[32m    135\u001b[39m         \u001b[38;5;28mself\u001b[39m._response_closed()\n\u001b[32m--> \u001b[39m\u001b[32m136\u001b[39m \u001b[38;5;28;01mraise\u001b[39;00m exc\n",
      "\u001b[36mFile \u001b[39m\u001b[32m~/Downloads/OpenAI - Deep Research Clone/.venv/lib/python3.13/site-packages/httpcore/_sync/http11.py:106\u001b[39m, in \u001b[36mHTTP11Connection.handle_request\u001b[39m\u001b[34m(self, request)\u001b[39m\n\u001b[32m     95\u001b[39m     \u001b[38;5;28;01mpass\u001b[39;00m\n\u001b[32m     97\u001b[39m \u001b[38;5;28;01mwith\u001b[39;00m Trace(\n\u001b[32m     98\u001b[39m     \u001b[33m\"\u001b[39m\u001b[33mreceive_response_headers\u001b[39m\u001b[33m\"\u001b[39m, logger, request, kwargs\n\u001b[32m     99\u001b[39m ) \u001b[38;5;28;01mas\u001b[39;00m trace:\n\u001b[32m    100\u001b[39m     (\n\u001b[32m    101\u001b[39m         http_version,\n\u001b[32m    102\u001b[39m         status,\n\u001b[32m    103\u001b[39m         reason_phrase,\n\u001b[32m    104\u001b[39m         headers,\n\u001b[32m    105\u001b[39m         trailing_data,\n\u001b[32m--> \u001b[39m\u001b[32m106\u001b[39m     ) = \u001b[38;5;28;43mself\u001b[39;49m\u001b[43m.\u001b[49m\u001b[43m_receive_response_headers\u001b[49m\u001b[43m(\u001b[49m\u001b[43m*\u001b[49m\u001b[43m*\u001b[49m\u001b[43mkwargs\u001b[49m\u001b[43m)\u001b[49m\n\u001b[32m    107\u001b[39m     trace.return_value = (\n\u001b[32m    108\u001b[39m         http_version,\n\u001b[32m    109\u001b[39m         status,\n\u001b[32m    110\u001b[39m         reason_phrase,\n\u001b[32m    111\u001b[39m         headers,\n\u001b[32m    112\u001b[39m     )\n\u001b[32m    114\u001b[39m network_stream = \u001b[38;5;28mself\u001b[39m._network_stream\n",
      "\u001b[36mFile \u001b[39m\u001b[32m~/Downloads/OpenAI - Deep Research Clone/.venv/lib/python3.13/site-packages/httpcore/_sync/http11.py:177\u001b[39m, in \u001b[36mHTTP11Connection._receive_response_headers\u001b[39m\u001b[34m(self, request)\u001b[39m\n\u001b[32m    174\u001b[39m timeout = timeouts.get(\u001b[33m\"\u001b[39m\u001b[33mread\u001b[39m\u001b[33m\"\u001b[39m, \u001b[38;5;28;01mNone\u001b[39;00m)\n\u001b[32m    176\u001b[39m \u001b[38;5;28;01mwhile\u001b[39;00m \u001b[38;5;28;01mTrue\u001b[39;00m:\n\u001b[32m--> \u001b[39m\u001b[32m177\u001b[39m     event = \u001b[38;5;28;43mself\u001b[39;49m\u001b[43m.\u001b[49m\u001b[43m_receive_event\u001b[49m\u001b[43m(\u001b[49m\u001b[43mtimeout\u001b[49m\u001b[43m=\u001b[49m\u001b[43mtimeout\u001b[49m\u001b[43m)\u001b[49m\n\u001b[32m    178\u001b[39m     \u001b[38;5;28;01mif\u001b[39;00m \u001b[38;5;28misinstance\u001b[39m(event, h11.Response):\n\u001b[32m    179\u001b[39m         \u001b[38;5;28;01mbreak\u001b[39;00m\n",
      "\u001b[36mFile \u001b[39m\u001b[32m~/Downloads/OpenAI - Deep Research Clone/.venv/lib/python3.13/site-packages/httpcore/_sync/http11.py:217\u001b[39m, in \u001b[36mHTTP11Connection._receive_event\u001b[39m\u001b[34m(self, timeout)\u001b[39m\n\u001b[32m    214\u001b[39m     event = \u001b[38;5;28mself\u001b[39m._h11_state.next_event()\n\u001b[32m    216\u001b[39m \u001b[38;5;28;01mif\u001b[39;00m event \u001b[38;5;129;01mis\u001b[39;00m h11.NEED_DATA:\n\u001b[32m--> \u001b[39m\u001b[32m217\u001b[39m     data = \u001b[38;5;28;43mself\u001b[39;49m\u001b[43m.\u001b[49m\u001b[43m_network_stream\u001b[49m\u001b[43m.\u001b[49m\u001b[43mread\u001b[49m\u001b[43m(\u001b[49m\n\u001b[32m    218\u001b[39m \u001b[43m        \u001b[49m\u001b[38;5;28;43mself\u001b[39;49m\u001b[43m.\u001b[49m\u001b[43mREAD_NUM_BYTES\u001b[49m\u001b[43m,\u001b[49m\u001b[43m \u001b[49m\u001b[43mtimeout\u001b[49m\u001b[43m=\u001b[49m\u001b[43mtimeout\u001b[49m\n\u001b[32m    219\u001b[39m \u001b[43m    \u001b[49m\u001b[43m)\u001b[49m\n\u001b[32m    221\u001b[39m     \u001b[38;5;66;03m# If we feed this case through h11 we'll raise an exception like:\u001b[39;00m\n\u001b[32m    222\u001b[39m     \u001b[38;5;66;03m#\u001b[39;00m\n\u001b[32m    223\u001b[39m     \u001b[38;5;66;03m#     httpcore.RemoteProtocolError: can't handle event type\u001b[39;00m\n\u001b[32m   (...)\u001b[39m\u001b[32m    227\u001b[39m     \u001b[38;5;66;03m# perspective. Instead we handle this case distinctly and treat\u001b[39;00m\n\u001b[32m    228\u001b[39m     \u001b[38;5;66;03m# it as a ConnectError.\u001b[39;00m\n\u001b[32m    229\u001b[39m     \u001b[38;5;28;01mif\u001b[39;00m data == \u001b[33mb\u001b[39m\u001b[33m\"\u001b[39m\u001b[33m\"\u001b[39m \u001b[38;5;129;01mand\u001b[39;00m \u001b[38;5;28mself\u001b[39m._h11_state.their_state == h11.SEND_RESPONSE:\n",
      "\u001b[36mFile \u001b[39m\u001b[32m~/Downloads/OpenAI - Deep Research Clone/.venv/lib/python3.13/site-packages/httpcore/_backends/sync.py:128\u001b[39m, in \u001b[36mSyncStream.read\u001b[39m\u001b[34m(self, max_bytes, timeout)\u001b[39m\n\u001b[32m    126\u001b[39m \u001b[38;5;28;01mwith\u001b[39;00m map_exceptions(exc_map):\n\u001b[32m    127\u001b[39m     \u001b[38;5;28mself\u001b[39m._sock.settimeout(timeout)\n\u001b[32m--> \u001b[39m\u001b[32m128\u001b[39m     \u001b[38;5;28;01mreturn\u001b[39;00m \u001b[38;5;28;43mself\u001b[39;49m\u001b[43m.\u001b[49m\u001b[43m_sock\u001b[49m\u001b[43m.\u001b[49m\u001b[43mrecv\u001b[49m\u001b[43m(\u001b[49m\u001b[43mmax_bytes\u001b[49m\u001b[43m)\u001b[49m\n",
      "\u001b[36mFile \u001b[39m\u001b[32m/Library/Frameworks/Python.framework/Versions/3.13/lib/python3.13/ssl.py:1285\u001b[39m, in \u001b[36mSSLSocket.recv\u001b[39m\u001b[34m(self, buflen, flags)\u001b[39m\n\u001b[32m   1281\u001b[39m     \u001b[38;5;28;01mif\u001b[39;00m flags != \u001b[32m0\u001b[39m:\n\u001b[32m   1282\u001b[39m         \u001b[38;5;28;01mraise\u001b[39;00m \u001b[38;5;167;01mValueError\u001b[39;00m(\n\u001b[32m   1283\u001b[39m             \u001b[33m\"\u001b[39m\u001b[33mnon-zero flags not allowed in calls to recv() on \u001b[39m\u001b[38;5;132;01m%s\u001b[39;00m\u001b[33m\"\u001b[39m %\n\u001b[32m   1284\u001b[39m             \u001b[38;5;28mself\u001b[39m.\u001b[34m__class__\u001b[39m)\n\u001b[32m-> \u001b[39m\u001b[32m1285\u001b[39m     \u001b[38;5;28;01mreturn\u001b[39;00m \u001b[38;5;28;43mself\u001b[39;49m\u001b[43m.\u001b[49m\u001b[43mread\u001b[49m\u001b[43m(\u001b[49m\u001b[43mbuflen\u001b[49m\u001b[43m)\u001b[49m\n\u001b[32m   1286\u001b[39m \u001b[38;5;28;01melse\u001b[39;00m:\n\u001b[32m   1287\u001b[39m     \u001b[38;5;28;01mreturn\u001b[39;00m \u001b[38;5;28msuper\u001b[39m().recv(buflen, flags)\n",
      "\u001b[36mFile \u001b[39m\u001b[32m/Library/Frameworks/Python.framework/Versions/3.13/lib/python3.13/ssl.py:1140\u001b[39m, in \u001b[36mSSLSocket.read\u001b[39m\u001b[34m(self, len, buffer)\u001b[39m\n\u001b[32m   1138\u001b[39m         \u001b[38;5;28;01mreturn\u001b[39;00m \u001b[38;5;28mself\u001b[39m._sslobj.read(\u001b[38;5;28mlen\u001b[39m, buffer)\n\u001b[32m   1139\u001b[39m     \u001b[38;5;28;01melse\u001b[39;00m:\n\u001b[32m-> \u001b[39m\u001b[32m1140\u001b[39m         \u001b[38;5;28;01mreturn\u001b[39;00m \u001b[38;5;28;43mself\u001b[39;49m\u001b[43m.\u001b[49m\u001b[43m_sslobj\u001b[49m\u001b[43m.\u001b[49m\u001b[43mread\u001b[49m\u001b[43m(\u001b[49m\u001b[38;5;28;43mlen\u001b[39;49m\u001b[43m)\u001b[49m\n\u001b[32m   1141\u001b[39m \u001b[38;5;28;01mexcept\u001b[39;00m SSLError \u001b[38;5;28;01mas\u001b[39;00m x:\n\u001b[32m   1142\u001b[39m     \u001b[38;5;28;01mif\u001b[39;00m x.args[\u001b[32m0\u001b[39m] == SSL_ERROR_EOF \u001b[38;5;129;01mand\u001b[39;00m \u001b[38;5;28mself\u001b[39m.suppress_ragged_eofs:\n",
      "\u001b[31mKeyboardInterrupt\u001b[39m: "
     ]
    }
   ],
   "source": [
    "# Verifying if we have enough info\n",
    "collected = []\n",
    "for _ in itertools.count():\n",
    "  for q in queries:\n",
    "    collected.append(run_search(q))\n",
    "  if evaluate(collected):\n",
    "    break\n",
    "\n",
    "  # If no: perform 5 more questions\n",
    "  more_searches = client.responses.create(\n",
    "      model = MODEL,\n",
    "      input = [\n",
    "          {\"role\": \"assistant\", \"content\": f\"Current data: {json.dumps(collected)}\"},\n",
    "          {\"role\": \"user\", \"content\": f\"This has not met the goal: {goal}. Write 5 other web searchs to achieve the goal\"}\n",
    "      ],\n",
    "      instructions = developer_message,\n",
    "      previous_response_id = goal_and_queries.id\n",
    "  )\n",
    "  queries = json.loads(more_searches.output[0].content[0].text)\n"
   ]
  },
  {
   "cell_type": "markdown",
   "metadata": {
    "id": "8oHqut0wj4kb"
   },
   "source": [
    "# Write the final report"
   ]
  },
  {
   "cell_type": "code",
   "execution_count": 53,
   "metadata": {
    "ExecuteTime": {
     "end_time": "2025-07-21T01:04:25.525378Z",
     "start_time": "2025-07-21T01:04:04.207411Z"
    },
    "colab": {
     "base_uri": "https://localhost:8080/",
     "height": 1000
    },
    "executionInfo": {
     "elapsed": 83708,
     "status": "ok",
     "timestamp": 1747658721240,
     "user": {
      "displayName": "Diogo Resende",
      "userId": "05706604408624562002"
     },
     "user_tz": -120
    },
    "id": "35n76FFej3wC",
    "outputId": "79689c93-d35f-4cd7-e4f3-e9b4ab381269"
   },
   "outputs": [
    {
     "name": "stdout",
     "output_type": "stream",
     "text": [
      "\n",
      "=== FINAL REPORT ===\n"
     ]
    },
    {
     "data": {
      "text/markdown": [
       "# Comprehensive Technical Report: Understanding Shiba Inu Dog Breed Behavior for Prospective Pet Owners\n",
       "\n",
       "---\n",
       "\n",
       "## Executive Summary\n",
       "\n",
       "The Shiba Inu is a Japanese breed known for intelligence, independence, and a spirited temperament. Prospective owners must thoroughly understand Shiba Inu behavior to set realistic expectations and implement strategies that support successful ownership. This detailed report synthesizes current research on the breed's behavioral traits, training challenges, temperament, and best practices for novice and experienced owners alike.\n",
       "\n",
       "---\n",
       "\n",
       "## 1. Overview of the Shiba Inu Breed\n",
       "\n",
       "Shiba Inus are the smallest and one of the oldest Japanese breeds, originally developed as agile hunters in mountainous regions. Their most recognizable features are their fox-like appearance, erect ears, curled tails, and compact stature. Shibas possess a broad suite of behavioral characteristics rooted in their hunting history and centuries of selective breeding.\n",
       "\n",
       "---\n",
       "\n",
       "## 2. Key Behavioral Traits\n",
       "\n",
       "### Independence and Willfulness\n",
       "\n",
       "Shiba Inus are famously independent, sometimes compared behaviorally to cats rather than typical companion dogs. Their autonomy manifests as:\n",
       "\n",
       "- **Selective Attention**: They may ignore commands or tasks unless motivated.\n",
       "- **Self-Sufficiency**: Often content being alone, less prone to separation anxiety [1].\n",
       "- **Stubbornness**: May challenge owners to maintain consistency and assertiveness in training [2][3].\n",
       "\n",
       "### Intelligence and Problem-Solving\n",
       "\n",
       "The Shiba Inu is a highly intelligent breed:\n",
       "- **Quick Learners**: Excel at learning new commands; however, their willful nature can impede consistent compliance [1].\n",
       "- **Curiosity**: React rapidly to changes in their environment and enjoy mental challenges [1].\n",
       "\n",
       "### Loyalty and Social Bonds\n",
       "\n",
       "While reserved with strangers, Shibas form deep attachments to their families:\n",
       "- **Subtle Affection**: Display loyalty through proximity, following owners, and indirect attention.\n",
       "- **Reserved Demeanor**: Rarely display exuberant affection, preferring “on their own terms” interaction [1][2].\n",
       "\n",
       "### Prey Drive and Territoriality\n",
       "\n",
       "Bred as hunters, Shiba Inus have:\n",
       "- **Strong Prey Drive**: Chasing small animals is instinctual, necessitating vigilance in unfenced areas.\n",
       "- **Possessiveness**: May guard toys, food, or people, especially without early intervention [1][3].\n",
       "- **Territorial Alertness**: Act as keen watchdogs, alerting owners to the presence of unfamiliar humans or animals [1].\n",
       "\n",
       "### Vocalizations\n",
       "\n",
       "Shibas are not excessive barkers, but have a unique, high-pitched “Shiba scream” when distressed or excited [1].\n",
       "\n",
       "### Cleanliness\n",
       "\n",
       "- **Self-Grooming**: Fastidiously clean themselves akin to cats, and are relatively easy to housebreak [1][2].\n",
       "- **Seasonal Shedding**: Their double coat requires regular maintenance, especially during biannual shedding periods [1].\n",
       "\n",
       "---\n",
       "\n",
       "## 3. Behavioral Challenges and Management Strategies\n",
       "\n",
       "### Stubbornness and Training Resistance\n",
       "\n",
       "- **Challenge**: Reluctance to follow commands without appropriate motivation and consistency [2][3].\n",
       "- **Solution**: Use positive reinforcement; high-value treats, play, and praise are effective. Avoid harsh corrections, which reduce trust [4].\n",
       "\n",
       "### Aggression and Resource Guarding\n",
       "\n",
       "- **Challenge**: Potential aggression towards other dogs and possessiveness over food/toys [2][3].\n",
       "- **Solution**: Early, controlled socialization and behavior modification techniques are crucial. Brief, repeated exposures to new people/animals foster confidence and reduce guarding tendencies [5].\n",
       "\n",
       "### Escape Attempts and “Bolting”\n",
       "\n",
       "- **Challenge**: High prey drive and curiosity can lead to attempts to flee yards or bolt through open doors [2].\n",
       "- **Solution**: Secure fencing and diligent leash training are mandatory. Utilize recall training with escalating distractions [4][6].\n",
       "\n",
       "### Destructive Behaviors\n",
       "\n",
       "- **Challenge**: Without adequate physical and mental stimulation, Shibas may become destructive (chewing, digging, etc.) [3].\n",
       "- **Solution**: Provide daily exercise, puzzle toys, training games, and short, varied activities to maintain engagement [5].\n",
       "\n",
       "---\n",
       "\n",
       "## 4. Exercise, Socialization, and Training\n",
       "\n",
       "### Exercise Requirements\n",
       "\n",
       "- **Medium to High Activity**: Shibas need at least one hour of vigorous activity daily—walks, play, or agility [7].\n",
       "- **Mental Challenges**: Incorporate training sessions, scent work, or puzzle feeders to stave off boredom [5].\n",
       "\n",
       "### Socialization\n",
       "\n",
       "- **Early Socialization**: Expose puppies to a variety of people, environments, and other animals before 16 weeks of age. This critical period reduces lifelong reactivity and stranger aggression [5].\n",
       "\n",
       "### Training Approaches\n",
       "\n",
       "- **Consistent Routine**: Use concise verbal cues, reward-based methods, and predictable scheduling.\n",
       "- **Short Sessions**: Professional trainers recommend multiple brief (5-10 minute) sessions daily rather than long, repetitive training [4].\n",
       "- **Professional Help**: Consider hiring a breed-savvy trainer for persistent behavioral issues [3].\n",
       "\n",
       "---\n",
       "\n",
       "## 5. Compatibility with Families and Other Pets\n",
       "\n",
       "- **Children**: Shibas can do well with respectful, older children. Supervision is important to prevent resource-guarding or accidental provocation [2].\n",
       "- **Other Dogs/Pets**: With early socialization, they often coexist peacefully; however, same-sex aggression and high prey drive toward small pets may persist [1][5].\n",
       "\n",
       "---\n",
       "\n",
       "## 6. Conclusion and Recommendations\n",
       "\n",
       "The Shiba Inu is an intelligent, active, and independent breed that demands consistency, patience, and creativity from its owners. Prospective Shiba owners should carefully consider their ability to provide early socialization, daily physical and mental stimulation, and positive, structured training. In return, owners will gain a loyal, unique, and rewarding companion.\n",
       "\n",
       "---\n",
       "\n",
       "## References\n",
       "\n",
       "[1] iheartdogs.com. “Shiba Inu Temperament: What’s a Shiba Inu’s Personality Like?”  \n",
       "https://iheartdogs.com/shiba-inu-temperament-whats-a-shiba-inus-personality-like/?utm_source=openai\n",
       "\n",
       "[2] The Spruce Pets. “Shiba Inu Dog Breed Profile.”  \n",
       "https://www.thesprucepets.com/shiba-inu-dog-breed-profile-4775761?utm_source=openai\n",
       "\n",
       "[3] Petcurious.com. “Shiba Inu Dog Breed Information.”  \n",
       "https://www.petcurious.com/dog-breeds/shiba-inu/?utm_source=openai\n",
       "\n",
       "[4] SmartDogLearning.com. “Shiba Inu Training: Tips and Techniques.”  \n",
       "https://smartdoglearning.com/shiba-inu-training/?utm_source=openai\n",
       "\n",
       "[5] ShibaInuMasters.com. “Tips for Training Shiba Inu Puppies.”  \n",
       "https://shibainumasters.com/tips-for-training-shiba-inu-puppies/?utm_source=openai\n",
       "\n",
       "[6] Colorado Shiba Inu Rescue. “Shiba 101.”  \n",
       "https://coloradoshibainurescue.org/about-shiba-inus/shiba-101/?utm_source=openai\n",
       "\n",
       "[7] American Kennel Club. “Is the Shiba Inu the Right Dog for You?”  \n",
       "https://www.akc.org/expert-advice/dog-breeds/shiba-inu-right-for-you/?utm_source=openai\n",
       "\n",
       "---\n",
       "This reference list maps [n] used inline to URLs for further reading and validation."
      ],
      "text/plain": [
       "<IPython.core.display.Markdown object>"
      ]
     },
     "metadata": {},
     "output_type": "display_data"
    }
   ],
   "source": [
    "# Use the responses endpoint to write the deep research report\n",
    "report = client.responses.create(\n",
    "    model = MODEL,\n",
    "    input = [\n",
    "        {\"role\": \"developer\", \"content\": (f\"Write a complete and detailed report about research goal: {goal}\"\n",
    "                                        \"Cite Sources inline using [n] and append a reference\"\n",
    "                                        \"list mapping [n] to url\")},\n",
    "        {\"role\": \"assistant\", \"content\": json.dumps(collected)}],\n",
    "    instructions = developer_message\n",
    ")\n",
    "print(\"\\n=== FINAL REPORT ===\")\n",
    "display(Markdown(report.output[0].content[0].text))"
   ]
  },
  {
   "cell_type": "code",
   "execution_count": 1,
   "metadata": {
    "ExecuteTime": {
     "end_time": "2025-07-21T01:09:05.486032Z",
     "start_time": "2025-07-21T01:09:04.688439Z"
    },
    "colab": {
     "base_uri": "https://localhost:8080/"
    },
    "executionInfo": {
     "elapsed": 3852,
     "status": "ok",
     "timestamp": 1747659775940,
     "user": {
      "displayName": "Diogo Resende",
      "userId": "05706604408624562002"
     },
     "user_tz": -120
    },
    "id": "qugerCQSo7aN",
    "outputId": "cdb1cec1-3d3b-4cbd-a387-9821a89064ad"
   },
   "outputs": [
    {
     "name": "stdout",
     "output_type": "stream",
     "text": [
      "Name: openai\r\n",
      "Version: 1.97.0\r\n",
      "Summary: The official Python library for the openai API\r\n",
      "Home-page: \r\n",
      "Author: \r\n",
      "Author-email: OpenAI <support@openai.com>\r\n",
      "License: Apache-2.0\r\n",
      "Location: /Users/annikamcmullen/Downloads/OpenAI - Deep Research Clone/.venv/lib/python3.13/site-packages\r\n",
      "Requires: anyio, distro, httpx, jiter, pydantic, sniffio, tqdm, typing-extensions\r\n",
      "Required-by: \r\n"
     ]
    }
   ],
   "source": [
    "!pip show openai"
   ]
  }
 ],
 "metadata": {
  "colab": {
   "authorship_tag": "ABX9TyOO2u4wfZDIVyZ6radM5z7j",
   "provenance": []
  },
  "kernelspec": {
   "display_name": "Python 3 (ipykernel)",
   "language": "python",
   "name": "python3"
  },
  "language_info": {
   "name": "python"
  }
 },
 "nbformat": 4,
 "nbformat_minor": 0
}
